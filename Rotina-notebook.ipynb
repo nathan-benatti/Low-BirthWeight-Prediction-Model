{
 "cells": [
  {
   "cell_type": "markdown",
   "id": "a46fe5cb-e282-444b-a927-1de534ba1f38",
   "metadata": {},
   "source": [
    "### Abordagem de ensenmble machine learning dos dados de recem nascidos vivos do sinasc datasus SAO PAULO\n",
    "### Machine Learning Ensenble approach of SINASC DATASUS SAO PAULO data from newborn alive\n",
    "\n",
    "Workflow stages \n",
    "\n",
    "-Question or problem definition\n",
    "\n",
    "-Import Data\n",
    "\n",
    "-Wrangle, prepare, cleanse the data.\n",
    "\n",
    "-Model, predict and solve the problem.\n",
    "\n",
    "-Visualize and report\n",
    "\n",
    "\n",
    "### Question or Problem Definition\n",
    "\n",
    "Here we have a dataset from DATASUS, that is an government database from brazillian public health. This dataset is concern about alive newborns and gather data about the socioeconomic and health features surrounding this newborn.\n",
    "\n",
    "Our target is related to the weight of the newborn, we want to predict wheater the baby will be born with BPN ( Baixo Peso ao Nascer -  Low birthweight ), which is below 2000 grams.\n",
    "\n",
    "With this data we want to build a machine learning model to predict rather the baby will be born below the threshold weight for health prediction issues.\n",
    "\n",
    "### Import Data"
   ]
  },
  {
   "cell_type": "code",
   "execution_count": 1,
   "id": "82c13398-3143-43a9-8470-7479d6c4ad78",
   "metadata": {},
   "outputs": [
    {
     "name": "stderr",
     "output_type": "stream",
     "text": [
      "C:\\Users\\Nathan\\AppData\\Local\\Temp\\ipykernel_20792\\3429445034.py:8: DtypeWarning: Columns (17) have mixed types. Specify dtype option on import or set low_memory=False.\n",
      "  dn_2014 = pd.read_csv(r'C:\\Users\\Nathan\\Documents\\TCC\\tabwin\\TAB415\\DNSPCSV\\DNSP2014.csv')\n"
     ]
    }
   ],
   "source": [
    "import pandas as pd\n",
    "import numpy as np\n",
    "\n",
    "#dn_2010 = pd.read_csv(r'C:\\Users\\Nathan\\Documents\\TCC\\tabwin\\TAB415\\DNSPCSV\\DNSP2010.csv')\n",
    "#dn_2011 = pd.read_csv(r'C:\\Users\\Nathan\\Documents\\TCC\\tabwin\\TAB415\\DNSPCSV\\DNSP2011.csv')\n",
    "#dn_2012 = pd.read_csv(r'C:\\Users\\Nathan\\Documents\\TCC\\tabwin\\TAB415\\DNSPCSV\\DNSP2012.csv')\n",
    "#dn_2013 = pd.read_csv(r'C:\\Users\\Nathan\\Documents\\TCC\\tabwin\\TAB415\\DNSPCSV\\DNSP2013.csv')\n",
    "dn_2014 = pd.read_csv(r'C:\\Users\\Nathan\\Documents\\TCC\\tabwin\\TAB415\\DNSPCSV\\DNSP2014.csv')\n",
    "dn_2015 = pd.read_csv(r'C:\\Users\\Nathan\\Documents\\TCC\\tabwin\\TAB415\\DNSPCSV\\DNSP2015.csv')\n",
    "dn_2016 = pd.read_csv(r'C:\\Users\\Nathan\\Documents\\TCC\\tabwin\\TAB415\\DNSPCSV\\DNSP2016.csv')\n",
    "dn_2017 = pd.read_csv(r'C:\\Users\\Nathan\\Documents\\TCC\\tabwin\\TAB415\\DNSPCSV\\DNSP2017.csv')\n",
    "dn_2018 = pd.read_csv(r'C:\\Users\\Nathan\\Documents\\TCC\\tabwin\\TAB415\\DNSPCSV\\DNSP2018.csv')\n",
    "dn_2019 = pd.read_csv(r'C:\\Users\\Nathan\\Documents\\TCC\\tabwin\\TAB415\\DNSPCSV\\DNSP2019.csv')\n",
    "dn_2020 = pd.read_csv(r'C:\\Users\\Nathan\\Documents\\TCC\\tabwin\\TAB415\\DNSPCSV\\DNSP2020.csv')"
   ]
  },
  {
   "cell_type": "code",
   "execution_count": 2,
   "id": "877c642b-f9f1-4354-9704-9707952d6591",
   "metadata": {},
   "outputs": [],
   "source": [
    "# creating 'ANO' ( YEAR ) feature to make it easier for future process.\n",
    "dn_2014['ANO'] = 2014\n",
    "dn_2015['ANO'] = 2015\n",
    "dn_2016['ANO'] = 2016\n",
    "dn_2017['ANO'] = 2017\n",
    "dn_2018['ANO'] = 2018\n",
    "dn_2019['ANO'] = 2019\n",
    "dn_2020['ANO'] = 2020"
   ]
  },
  {
   "cell_type": "code",
   "execution_count": 3,
   "id": "527e2704-3b79-46b6-a867-9463a6967f4d",
   "metadata": {},
   "outputs": [],
   "source": [
    "# grouping the datasets from all years in one\n",
    "df = pd.concat([dn_2014,dn_2015,dn_2016,dn_2017,dn_2018,dn_2019,dn_2020],ignore_index=True)"
   ]
  },
  {
   "cell_type": "markdown",
   "id": "8e6549a2-a0ab-449b-a593-4cce56f3d0b0",
   "metadata": {},
   "source": [
    "Before anything let's start taking a quick look on our target, for that we going to create a feature to tell us when or not the baby is on BPN."
   ]
  },
  {
   "cell_type": "code",
   "execution_count": 8,
   "id": "009f23fb-a5c0-4b92-9ac4-1b559be3e229",
   "metadata": {},
   "outputs": [
    {
     "name": "stderr",
     "output_type": "stream",
     "text": [
      "C:\\Users\\Nathan\\Anaconda3\\lib\\site-packages\\seaborn\\distributions.py:2619: FutureWarning: `distplot` is a deprecated function and will be removed in a future version. Please adapt your code to use either `displot` (a figure-level function with similar flexibility) or `histplot` (an axes-level function for histograms).\n",
      "  warnings.warn(msg, FutureWarning)\n"
     ]
    },
    {
     "name": "stdout",
     "output_type": "stream",
     "text": [
      " Peso (Weight) < 2500 gramas :  386127\n",
      " Peso (Weight) > 2500 gramas :  3828345\n",
      " Abaixo do Peso (Below Loweight) % :  9.161930604830214\n",
      " Peso Normal ( Normal weight ) % :  90.83806939516978\n"
     ]
    },
    {
     "data": {
      "image/png": "[encoded data removed]",
      "text/plain": [
       "<Figure size 432x288 with 1 Axes>"
      ]
     },
     "metadata": {
      "needs_background": "light"
     },
     "output_type": "display_data"
    }
   ],
   "source": [
    "df = df[df['PESO'].notna()]    # dropar se PESO estiver faltando\n",
    "df['PESO'] = df['PESO'].astype(int)\n",
    "\n",
    "import seaborn as sns\n",
    "sns.distplot(df['PESO'])\n",
    "df['BPN'] = df['PESO'].apply(lambda x: 1 if x < 2500 else 0)\n",
    "print(' Peso (Weight) < 2500 gramas : ', len(df[df['BPN'] == 1]))\n",
    "print(' Peso (Weight) > 2500 gramas : ', len(df[df['BPN'] == 0]))\n",
    "print(' Abaixo do Peso (Below Loweight) % : ', (len(df[df['BPN'] == 1])/len(df)) * 100)\n",
    "print(' Peso Normal ( Normal weight ) % : ', (len(df[df['BPN'] == 0])/len(df)) * 100)"
   ]
  },
  {
   "cell_type": "markdown",
   "id": "6922009e-c53a-41ee-bb44-f1616394a81f",
   "metadata": {},
   "source": [
    "We know now that the rate for low birthweight is 9.16%, is good to keep in mind that this is a case of imbalanced data, which we have to consider when we get to the modelling part.\n",
    "\n",
    "### Wrangle, Prepare, Cleanse Data\n",
    "\n",
    "For starters this is the features that the dataset have and we will work on \n",
    "\n",
    "• DTNASC – Data do nascimento;  dd mm aaaa (birthdate)\n",
    "\n",
    "• HORANASC – Horário do nascimento do recém-nascido; (birth hour)\n",
    "\n",
    "• SEXO – Sexo do recém-nascido; Sexo: M – Masculino; F – Feminino; I – ignorado (sex)\n",
    "\n",
    "• RACACOR – Cor ou raça do recém-nascido; Tipo de raça e cor do nascido: 1– Branca; 2– Preta; 3– Amarela;\n",
    "4– Parda; 5– Indígena. (race)\n",
    "\n",
    "• *PESO – Peso em gramas verificado até a 5ª hora após o nascimento;  EM GRAMAS* Variavel a ser Analisada como saida (Weight)\n",
    "\n",
    "• APGAR1 – Valor do índice de Apgar, medido no 1º minuto de vida; pontuacao de 0 a 10\n",
    "\n",
    "• APGAR5 – Valor do índice Apgar, medido no 5º minuto de vida; pontuacao de 0 a 10\n",
    "\n",
    "• IDANOMAL – Anomalia congênita identificada no momento do nascimento;  Anomalia identificada: 1– Sim; 2– Não; 9– Ignorado (Identified congenital anomaly)\n",
    "\n",
    "• LOCNASC – Local onde ocorreu o nascimento; Local de nascimento: 1 – Hospital; 2 – Outros estabelecimentos\n",
    "de saúde; 3 – Domicílio; 4 – Outros ( birht location )\n",
    "\n",
    "• CODESTAB – Código do Cadastro Nacional de estabelecimento onde ocorreu o nascimento; ... (establishment code)\n",
    "\n",
    "• CODMUNNASC – Código de município de nascimento; ... (birthtown code)\n",
    "\n",
    "• ESCMAE – Escolaridade, em anos de estudo concluídos. Código agregado da escolaridade\n",
    "da mãe para o modelo antigo da DN; Escolaridade, em anos de estudo concluídos: 1 – Nenhuma; 2 –\n",
    "1 a 3 anos; 3 – 4 a 7 anos; 4 – 8 a 11 anos; 5 – 12 e mais; 9 – Ignorado. ( mother scholarship)\n",
    "\n",
    "• ESCMAE2010 – Escolaridade 2010; Escolaridade 2010. Valores: 0 – Sem escolaridade; 1 –\n",
    "Fundamental I (1ª a 4ª série); 2 – Fundamental II (5ª a 8ª série); \n",
    "3 – Médio (antigo 2º Grau); 4 – Superior incompleto; 5 –\n",
    "Superior completo; 9 – Ignorado. (mother scholarship 2010) \n",
    "\n",
    "• SERIESCMAE – Série escolar da mãe; Série escolar da mãe. Valores de 1 a 8 ( related to mother scholarship)\n",
    "\n",
    "• CODOCUPMAE – Código de ocupação da mãe conforme tabela do CBO (Código Brasileiro de Ocupações; Código de ocupação da mãe conforme tabela do CBO (Código\n",
    "Brasileiro de Ocupações). ... (mother's occupation code)\n",
    "\n",
    "• DTNASCMAE – Data de nascimento da mãe; Data de nascimento da mãe: dd mm aaaa (mother's birthdate)\n",
    "\n",
    "• IDADEMAE – Idade da mãe; ... (mother's age)\n",
    "\n",
    "• NATURALMAE – Se a mãe for estrangeira, constará o código do país de nascimento; Se a mãe for estrangeira, constará o código do país de\n",
    "nascimento. (mother's naturality)\n",
    "\n",
    "• ESTCIVMAE – Situação conjugal da mãe; Situação conjugal da mãe: 1– Solteira; 2– Casada; 3– Viúva; 4–\n",
    "Separada judicialmente/divorciada; 5– União estável; 9–\n",
    "Ignorada. (mother's civil state)\n",
    "\n",
    "• RACACORMAE – Tipo de raça e cor da mãe; Tipo de raça e cor da mãe: 1– Branca; 2– Preta; 3– Amarela; 4–\n",
    "Parda; 5– Indígena. (mother's race)\n",
    "\n",
    "• CODMUNRES – Código do município de residência; ... (mother's town residence code)\n",
    "\n",
    "• IDADEPAI – Idade do pai; ... (father's age)\n",
    "\n",
    "• QTDGESTANT – Número de gestações anteriores; ... ( gestation quantity )\n",
    "\n",
    "• QTDPARTNOR – Número de partos vaginais; ... ( normal childbirth quantity )\n",
    "\n",
    "• QTDPARTCES – Número de partos cesáreos; ... ( cesarean childbirth quantity )\n",
    "\n",
    "• QTDFILVIVO – Número de filhos vivos; ... ( number of alive children)\n",
    "\n",
    "• QTDFILMORT – Número de perdas fetais e abortos; ( number of fetal losses or abortions )\n",
    "\n",
    "• DTULTMENST – Data da última menstruação (DUM);  dd mm aaaa ( date of last menstruation )\n",
    "\n",
    "• GESTACAO – Semanas de gestação agrupado; ... ( weeks of gestation - grouped)\n",
    "\n",
    "• SEMAGESTAC – Número de semanas de gestação; ... ( number of weeks of gestation )\n",
    "\n",
    "• TPMETESTIM – Método utilizado para verificar nº de semanas de gestação;  Método utilizado. Valores: 1– Exame físico; 2– Outro método;\n",
    "9– Ignorado.  ( method for verifing gestation weeks number )\n",
    "\n",
    "• CONSULTAS – Número de consultas de pré-natal agrupada;  Valores: 1– Nenhuma; 2– de\n",
    "1 a 3; 3– de 4 a 6; 4– 7 e mais; 9– Ignorado. ( number of pre-birth appointments )\n",
    "\n",
    "• CONSPRENAT – Número de consultas pré-natal por semana de gestação; ... ( number of pre-birth appointments for gestation week)\n",
    "\n",
    "• MESPRENAT – Mês de gestação em que iniciou o pré natal; ... ( gestation month that began the pre-birth appointments )\n",
    "\n",
    "• GRAVIDEZ – Tipo de gravidez; Tipo de gravidez: 1– Única; 2– Dupla; 3– Tripla ou mais; 9–\n",
    "Ignorado. ( type of pregnancy )\n",
    "\n",
    "• TPAPRESENT – Tipo de apresentação do RN; Tipo de apresentação do RN. Valores: 1– Cefálico; 2– Pélvica ou\n",
    "podálica; 3– Transversa; 9– Ignorado. ( fetal presentation and position )\n",
    "\n",
    "• STTRABPART – Questionamento sobre indução do trabalho de parto; Trabalho de parto induzido? Valores: 1– Sim; 2– Não; 3– Não\n",
    "se aplica; 9– Ignorado.  ( question about labor induction )\n",
    "\n",
    "• PARTO – Tipo de parto; Tipo de parto: 1– Vaginal; 2– Cesário; 9– Ignorado  ( type of labor )\n",
    "\n",
    "• STCESPARTO – Cesárea ocorreu antes do trabalho de parto iniciar; Cesárea ocorreu antes do trabalho de parto iniciar? Valores: 1–\n",
    "Sim; 2– Não; 3– Não se aplica; 9– Ignorado. ( if cesarean begun before or after labor )\n",
    "\n",
    "\n",
    "• TPNASCASSI – Formação da pessoa que assistiu ao parto. Em partos assistidos por\n",
    "equipe multiprofissional, formação da pessoa que coordenou os trabalhos; Nascimento foi assistido por? Valores: 1– Médico; 2–\n",
    "Enfermeira/obstetriz; 3– Parteira; 4– Outros; 9– Ignorado. (type of formation of the person who attended the birth )\n",
    "\n",
    "\n",
    "• CODANOMAL – Descrição completa da anomalia congênita identificada no momento do\n",
    "nascimento, segundo a CID 10; (congenital anomaly code, by CID 10)\n",
    "\n",
    "• DTDECLARAC – Data do preenchimento da declaração; dd mm aaaa (date of fillingof the declaration)\n",
    "\n",
    "• TPFUNCRESP – Funcao do responsável pelo preenchimento da declaração; Tipo de função do responsável pelo preenchimento. Valores:\n",
    "1– Médico; 2– Enfermeiro; 3– Parteira; 4– Funcionário do\n",
    "cartório; 5– Outros. (function of the responsible for the declaration)\n",
    "\n",
    "• TPDOCRESP – Tipo de documento do responsável pelo preenchimento da declaração; Tipo do documento do responsável. Valores: 1‐CNES; 2‐CRM; 3‐\n",
    "COREN; 4‐RG; 5‐CPF. ( type of document of the responsible for the declaration)\n",
    "\n",
    "• ESCMAEAGR1 – Escolaridade 2010 agregada; Escolaridade 2010 agregada. Valores: 00 – Sem Escolaridade;\n",
    "01 – Fundamental I Incompleto; 02 – Fundamental I Completo;\n",
    "03 – Fundamental II Incompleto; 04 – Fundamental II\n",
    "Completo; 05 – Ensino Médio Incompleto; 06 – Ensino Médio\n",
    "Completo; 07 – Superior Incompleto; 08 – Superior Completo;\n",
    "09 – Ignorado; 10 – Fundamental I Incompleto ou Inespecífico;\n",
    "11 – Fundamental II Incompleto ou Inespecífico; 12 – Ensino\n",
    "Médio Incompleto ou Inespecífico.  ( mother's scholarship)\n",
    "\n",
    "• STDNEPIDEM – Status de DN Epidemiológica; Status de DO Epidemiológica. Valores: 1 – SIM; 0 – NÃO. ( status of epidemiological from News Diary )\n",
    "\n",
    "• STDNNOVA – Status de DN Nova; Status de DO Nova. Valores: 1 – SIM; 0 – NÃO. ( Status of Nova from New sDiary )\n",
    "\n",
    "• CODPAISRES – Código do país de residência; ... ( Country of residence code )\n",
    "\n",
    "• TPROBSON – Código do Grupo de Robson, gerado pelo sistema; ... (Robson group code )\n",
    " \n",
    "• PARIDADE – Variável calculada pelo sistema; ...* not found on dictionary ( Parity )\n",
    "\n",
    "• KOTELCHUCK – Códigos de classificação de adequação ao pré natal, gerado pelo (KOTELCHUCK)\n",
    "sistema; ...* not found on dictionary\n",
    "\n",
    "• CODUFNATU – Código da UF de naturalidade da mãe; ... ( Mother' natural state Code )\n",
    "\n",
    "• CODMUNNATU – Código do município de naturalidade da mãe; ... ( Mothers natural town code )\n",
    "\n",
    "• DTRECORIGA – Data de recebimento original calculado pelo sistema; ...* not found ( Original date calculated by the system )\n",
    "\n",
    "• DIFDATA – Diferença entre a data de óbito e data do recebimento original da DO ([DTNASC] – [DTRECORIG]); ( difference between date of death and received)\n",
    "\n",
    "• DTRECEBIM – Data do último recebimento do lote, dada pelo Sisnet; ... ( date of the last data package from system)\n",
    "\n",
    "• VERSAOSIST – Versão do sistema; ( system version )\n",
    "\n",
    "• NUMEROLOTE – Número do lote; ( number of the package )\n",
    "\n",
    "• DTCADASTRO – Data do cadastro da DN no sistema; ( registration on news diary date )\n",
    "\n",
    "• ORIGEM – Banco de dados de origem; ( origin of database )"
   ]
  },
  {
   "cell_type": "markdown",
   "id": "46b066a3-fa02-4d22-aaeb-af847a9db6b4",
   "metadata": {},
   "source": [
    "Let's see which features has the most NaN values, so we may consider dropping them."
   ]
  },
  {
   "cell_type": "markdown",
   "id": "ca9715d5-442a-423f-bb4d-4d65507cd5eb",
   "metadata": {},
   "source": [
    "#### Missing values analyses"
   ]
  },
  {
   "cell_type": "code",
   "execution_count": 9,
   "id": "d2fda941-a436-44c0-9bc5-c29d8a07c526",
   "metadata": {},
   "outputs": [],
   "source": [
    "isnull = df.isnull().sum() "
   ]
  },
  {
   "cell_type": "code",
   "execution_count": 10,
   "id": "48111538-0535-4491-a910-2c85e1d10d4b",
   "metadata": {},
   "outputs": [
    {
     "data": {
      "text/plain": [
       "CODANOMAL     4161815\n",
       "DTRECORIGA    3614212\n",
       "CONTADOR      2472860\n",
       "DTULTMENST    2379945\n",
       "IDADEPAI      2022781\n",
       "CODPAISRES    1872600\n",
       "contador      1741612\n",
       "SERIESCMAE    1441932\n",
       "CODOCUPMAE     960741\n",
       "STCESPARTO     524099\n",
       "CODUFNATU       69990\n",
       "CODMUNNATU      69990\n",
       "NATURALMAE      68829\n",
       "QTDFILMORT      65105\n",
       "QTDPARTNOR      64818\n",
       "QTDPARTCES      59415\n",
       "MESPRENAT       44680\n",
       "RACACORMAE      41840\n",
       "QTDGESTANT      39789\n",
       "QTDFILVIVO      39010\n",
       "TPFUNCRESP      36331\n",
       "TPMETESTIM      35116\n",
       "RACACOR         32616\n",
       "DTDECLARAC      26862\n",
       "CONSPRENAT      23984\n",
       "STTRABPART      22957\n",
       "ESCMAE2010      19893\n",
       "ESCMAEAGR1      19893\n",
       "CODESTAB        17388\n",
       "TPAPRESENT      16829\n",
       "DTNASCMAE       16725\n",
       "APGAR1          15151\n",
       "APGAR5          14321\n",
       "TPNASCASSI      13827\n",
       "ESTCIVMAE       13641\n",
       "SEMAGESTAC      12998\n",
       "GESTACAO        12182\n",
       "TPDOCRESP       11981\n",
       "ESCMAE          10435\n",
       "IDANOMAL         6639\n",
       "dtype: int64"
      ]
     },
     "execution_count": 10,
     "metadata": {},
     "output_type": "execute_result"
    }
   ],
   "source": [
    "isnull.sort_values(ascending = False).head(40)"
   ]
  },
  {
   "cell_type": "markdown",
   "id": "342a7664-4469-4a15-9cbf-a9dac311cf34",
   "metadata": {
    "tags": []
   },
   "source": [
    "#### Getting features correlation with the target "
   ]
  },
  {
   "cell_type": "code",
   "execution_count": 11,
   "id": "7f4336c6-7475-42ab-9878-f359b713de1a",
   "metadata": {
    "tags": []
   },
   "outputs": [
    {
     "name": "stdout",
     "output_type": "stream",
     "text": [
      "BPN           1.000000\n",
      "PESO          0.664543\n",
      "SEMAGESTAC    0.530659\n",
      "GESTACAO      0.527347\n",
      "TPROBSON      0.388847\n",
      "GRAVIDEZ      0.292629\n",
      "CONSULTAS     0.122735\n",
      "APGAR1        0.072558\n",
      "KOTELCHUCK    0.070574\n",
      "TPAPRESENT    0.060009\n",
      "APGAR5        0.050317\n",
      "CONSPRENAT    0.040186\n",
      "STTRABPART    0.034793\n",
      "MESPRENAT     0.034260\n",
      "QTDFILMORT    0.031548\n",
      "PARTO         0.025253\n",
      "TPNASCASSI    0.020883\n",
      "LOCNASC       0.019545\n",
      "PARIDADE      0.019162\n",
      "QTDPARTCES    0.018817\n",
      "SERIESCMAE    0.018339\n",
      "TPMETESTIM    0.017706\n",
      "ESCMAE        0.017466\n",
      "STCESPARTO    0.016709\n",
      "QTDPARTNOR    0.016396\n",
      "ESCMAE2010    0.016105\n",
      "IDANOMAL      0.015716\n",
      "IDADEMAE      0.014276\n",
      "QTDGESTANT    0.013867\n",
      "IDADEPAI      0.012652\n",
      "ESCMAEAGR1    0.012151\n",
      "DIFDATA       0.010891\n",
      "CODMUNNATU    0.010549\n",
      "CODOCUPMAE    0.010379\n",
      "CODUFNATU     0.010348\n",
      "NATURALMAE    0.010131\n",
      "ESTCIVMAE     0.005921\n",
      "TPDOCRESP     0.005065\n",
      "DTRECEBIM     0.004898\n",
      "CODESTAB      0.004725\n",
      "RACACOR       0.003790\n",
      "RACACORMAE    0.003696\n",
      "TPFUNCRESP    0.003593\n",
      "DTRECORIGA    0.003573\n",
      "CODMUNNASC    0.002975\n",
      "NUMEROLOTE    0.002903\n",
      "CODMUNRES     0.002598\n",
      "contador      0.001278\n",
      "CONTADOR      0.001248\n",
      "DTCADASTRO    0.001151\n",
      "ANO           0.001063\n",
      "DTNASC        0.000839\n",
      "ORIGEM        0.000651\n",
      "DTNASCMAE     0.000646\n",
      "DTDECLARAC    0.000510\n",
      "STDNNOVA      0.000282\n",
      "QTDFILVIVO    0.000131\n",
      "DTULTMENST    0.000062\n",
      "STDNEPIDEM         NaN\n",
      "CODPAISRES         NaN\n",
      "Name: BPN, dtype: float64\n"
     ]
    }
   ],
   "source": [
    "corr_matrix = df.corr().abs() # getting the correlation in positive numbers \n",
    "print(corr_matrix[\"BPN\"].sort_values(ascending=False))"
   ]
  },
  {
   "cell_type": "markdown",
   "id": "168b4831-6fcb-4453-9f43-20beeb74d12d",
   "metadata": {
    "tags": []
   },
   "source": [
    "\n",
    "#### Some feature that wont help us i will drop for process effiencience.\n",
    "\n",
    " ORIGEM, because of the low corr and lack of apparently concept corr\n",
    " \n",
    " CODPAISRES because dont interest me other country other than brasil, because we are approaching only cases of State of Sao Paulo\n",
    " \n",
    " VERSAOSIST version of the sistem not important\n",
    " \n",
    " DTRECORIGA date of document received not important\n",
    " \n",
    " CODANOMAL has a lot of NAN values but it still can be relevant, so before drop it i will create a hasFeature feature.\n",
    " \n",
    " CONTADOR and contador is just the counter of the data, so i will drop it \n",
    " \n",
    " CODEESTAB because is jsut the code of the establishment the newborn was born\n",
    " \n",
    " NUMEROLOTE also because is just related to the package that the data was saved\n",
    " \n",
    " All Dates features with the exception of DTNASC because it might be useful get the months out of it, thinking that maybe season might have implicit interference\n"
   ]
  },
  {
   "cell_type": "code",
   "execution_count": 12,
   "id": "2cf6c99d-2458-4bca-85cb-9dad0f088ee3",
   "metadata": {},
   "outputs": [],
   "source": [
    "# creating hasFeature type of feature to save the value of it was a missing value or not\n",
    "df['hasDTRECORIGA'] = np.where(df['DTRECORIGA'].notnull(),1,0) \n",
    "df['hasCODANOMAL'] = np.where(df['CODANOMAL'].notnull(),1,0)\n",
    "df['hasCODESTAB'] = np.where(df['CODESTAB'].notnull(),1,0)\n",
    "df['hasNUMEROLOTE'] = np.where(df['CODESTAB'].notnull(),1,0)\n",
    "df['hasDTULTMENST'] = np.where(df['DTULTMENST'].notnull(),1,0)\n",
    "df['hasIDADEPAI'] = np.where(df['IDADEPAI'].notnull(),1,0) # substitute by the mode\n",
    "df['hasSERIESCMAE'] = np.where(df['SERIESCMAE'].notnull(),1,0) # substitute by the mode\n",
    "df['hasCODOCUPMAE'] = np.where(df['CODOCUPMAE'].notnull(),1,0)\n",
    "\n",
    "df['hasHORANASC'] = np.where(df['HORANASC'].notnull(),1,0)\n",
    "df['hasDTCADASTRO'] = np.where(df['DTCADASTRO'].notnull(),1,0)\n",
    "df['hasDTRECEBIM'] = np.where(df['DTRECEBIM'].notnull(),1,0)\n",
    "df['hasDTNASCMAE'] = np.where(df['DTNASCMAE'].notnull(),1,0)\n",
    "df['hasDTDECLARAC'] = np.where(df['DTDECLARAC'].notnull(),1,0)\n"
   ]
  },
  {
   "cell_type": "code",
   "execution_count": 13,
   "id": "38c9041b-cc98-43e1-9da7-e375d15c04f0",
   "metadata": {},
   "outputs": [],
   "source": [
    "df.drop(['ORIGEM','CODPAISRES','VERSAOSIST','DTRECORIGA','CONTADOR','CODESTAB','NUMEROLOTE','contador','HORANASC',\n",
    "         'DTCADASTRO','DTRECEBIM','DTULTMENST','DTNASCMAE','DTDECLARAC'],axis=1,inplace=True)"
   ]
  },
  {
   "cell_type": "markdown",
   "id": "18cacee2-cfc3-40ef-a037-539a7ee17b89",
   "metadata": {},
   "source": [
    "After creating the hasFeatures and dropping the selected columns, is necessary to change the features to the right type and fill in the NaN values\n",
    "\n",
    "We will do it mostly be replacing quantitative features with the mode, and filling the 'ignored' option for the features we can."
   ]
  },
  {
   "cell_type": "code",
   "execution_count": 14,
   "id": "8bb0ac7a-52a2-4e45-bed5-6469516a8732",
   "metadata": {},
   "outputs": [],
   "source": [
    "df['PESO'] = df['PESO'].astype(int)\n",
    "\n",
    "df['CODMUNNASC'] = df['CODMUNNASC'].astype(int)\n",
    "df['LOCNASC'] = df['LOCNASC'].astype(int)\n",
    "\n",
    "df['IDADEMAE'].fillna(df['IDADEMAE'].mode()[0],inplace=True)\n",
    "df['IDADEMAE'] = df['IDADEMAE'].astype(int)\n",
    "\n",
    "df['ESTCIVMAE'].fillna(9,inplace=True)\n",
    "df['ESTCIVMAE'] = df['ESTCIVMAE'].astype(int)\n",
    "\n",
    "df['ESCMAE'].fillna(9,inplace=True)\n",
    "df['ESCMAE'] = df['ESCMAE'].astype(int)\n",
    "\n",
    "df['CODOCUPMAE'].fillna(9,inplace=True)\n",
    "df['CODOCUPMAE'] = df['CODOCUPMAE'].astype(int)\n",
    "\n",
    "df['QTDFILVIVO'].fillna(0,inplace=True)\n",
    "df['QTDFILVIVO'] = df['QTDFILVIVO'].astype(int)\n",
    "\n",
    "df['QTDFILMORT'].fillna(0,inplace=True)\n",
    "df['QTDFILMORT'] = df['QTDFILMORT'].astype(int)\n",
    "\n",
    "df['CODMUNRES'] = df['CODMUNRES'].astype(int)\n",
    "\n",
    "df['GESTACAO'].fillna(9,inplace=True)\n",
    "df['GESTACAO'] = df['GESTACAO'].astype(int)\n",
    "\n",
    "df['GRAVIDEZ'].fillna(9,inplace=True)\n",
    "df['GRAVIDEZ'] = df['GRAVIDEZ'].astype(int)\n",
    "\n",
    "df['PARTO'].fillna(9,inplace=True)\n",
    "df['PARTO'] = df['PARTO'].astype(int)\n",
    "\n",
    "\n",
    "df['CONSULTAS'].fillna(9,inplace=True) # filling with 9, with stands for ignored\n",
    "df['CONSULTAS'] = df['CONSULTAS'].astype(int)\n",
    "\n",
    "# replacing 'M' and 'F' for the respective number of the same meaning \n",
    "def condition(x):\n",
    "    if x=='M' or x==1:\n",
    "        return 1\n",
    "    elif x=='F' or x==2:\n",
    "        return 2\n",
    "    else:\n",
    "        return 0\n",
    "df['SEXO'] = df['SEXO'].apply(condition)\n",
    "df['SEXO'].fillna(0,inplace=True) # filling for 0, which stands for ignored\n",
    "df['SEXO'] = df['SEXO'].astype(int)\n",
    "\n",
    "df['APGAR1'].fillna(99,inplace=True)\n",
    "df['APGAR1'] = df['APGAR1'].astype(int)\n",
    "\n",
    "df['APGAR5'].fillna(99,inplace=True)\n",
    "df['APGAR5'] = df['APGAR5'].astype(int)\n",
    "\n",
    "df['RACACOR'].fillna(9,inplace=True)\n",
    "df['RACACOR'] = df['RACACOR'].astype(int)\n",
    "\n",
    "df['PESO'] = df['PESO'].astype(int)\n",
    "\n",
    "df['IDANOMAL'].fillna(9,inplace=True)\n",
    "df['IDANOMAL'] = df['IDANOMAL'].astype(int)\n",
    "\n",
    "df['DIFDATA'].fillna(df['DIFDATA'].mode()[0],inplace=True)\n",
    "df['DIFDATA'] = df['DIFDATA'].astype(int)\n",
    "\n",
    "df['NATURALMAE'].fillna(835,inplace=True) # substituindo pela moda\n",
    "df['NATURALMAE'] = df['NATURALMAE'].astype(int)\n",
    "\n",
    "df['CODMUNNATU'].fillna(99,inplace=True)\n",
    "df['CODMUNNATU'] = df['CODMUNNATU'].astype(int)\n",
    "\n",
    "df['CODUFNATU'].fillna(99,inplace=True)\n",
    "df['CODUFNATU'] = df['CODUFNATU'].astype(int)\n",
    "\n",
    "df['ESCMAE2010'].fillna(99,inplace=True)\n",
    "df['ESCMAE2010'] = df['ESCMAE2010'].astype(int)\n",
    "\n",
    "df['hasSERIESCMAE'] = df['SERIESCMAE'].apply(lambda x: 1 if x > 0 else 0)\n",
    "\n",
    "df['SERIESCMAE'].fillna(9,inplace=True)\n",
    "df['SERIESCMAE'] = df['SERIESCMAE'].astype(int)\n",
    "\n",
    "df['RACACORMAE'].fillna(9,inplace=True)\n",
    "df['RACACORMAE'] = df['RACACORMAE'].astype(int)\n",
    "\n",
    "df['QTDGESTANT'].fillna(0,inplace=True) # substituindo pela moda\n",
    "df['QTDGESTANT'] = df['QTDGESTANT'].astype(int)\n",
    "\n",
    "df['QTDPARTCES'].fillna(0,inplace=True) # substituindo pela moda\n",
    "df['QTDPARTCES'] = df['QTDPARTCES'].astype(int)\n",
    "\n",
    "df['hasIDADEPAI'] = df['IDADEPAI'].apply(lambda x: 1 if x > 0 else 0)\n",
    "\n",
    "df['IDADEPAI'].fillna(df['IDADEPAI'].mode()[0],inplace=True)\n",
    "df['IDADEPAI'] = df['IDADEPAI'].astype(int)\n",
    "\n",
    "\n",
    "df['MESPRENAT'].fillna(99,inplace=True)\n",
    "df['MESPRENAT'] = df['MESPRENAT'].astype(int)\n",
    "\n",
    "df['TPAPRESENT'].fillna(9,inplace=True)\n",
    "df['TPAPRESENT'] = df['TPAPRESENT'].astype(int)\n",
    "\n",
    "df['STTRABPART'].fillna(9,inplace=True)\n",
    "df['STTRABPART'] = df['STTRABPART'].astype(int)\n",
    "\n",
    "df['STCESPARTO'].fillna(9,inplace=True)\n",
    "df['STCESPARTO'] = df['STCESPARTO'].astype(int)\n",
    "\n",
    "df['TPNASCASSI'].fillna(9,inplace=True)\n",
    "df['TPNASCASSI'] = df['TPNASCASSI'].astype(int)\n",
    "\n",
    "df['TPFUNCRESP'].fillna(9,inplace=True)\n",
    "df['TPFUNCRESP'] = df['TPFUNCRESP'].astype(int)\n",
    "\n",
    "\n",
    "df['STDNEPIDEM'].fillna(df['STDNEPIDEM'].mode()[0],inplace=True) # filling the nans with the mode\n",
    "df['STDNEPIDEM'] = df['STDNEPIDEM'].astype(int)\n",
    "\n",
    "df['STDNNOVA'].fillna(df['STDNNOVA'].mode()[0],inplace=True) # filling the nans with the mode\n",
    "df['STDNNOVA'] = df['STDNNOVA'].astype(int)\n",
    "\n",
    "df['TPROBSON'] = df['TPROBSON'].astype(int)\n",
    "df['PARIDADE'] = df['PARIDADE'].astype(int)\n",
    "df['KOTELCHUCK'] = df['KOTELCHUCK'].astype(int)"
   ]
  },
  {
   "cell_type": "code",
   "execution_count": 15,
   "id": "91ec6215-1404-4268-ad2f-e387f4ca9a27",
   "metadata": {},
   "outputs": [],
   "source": [
    "# Retrieving the Month from the newborn was born / update : failed, will drop the feature\n",
    "df.drop('DTNASC',axis=1,inplace=True)"
   ]
  },
  {
   "cell_type": "code",
   "execution_count": 16,
   "id": "87238120-a156-4bd5-8301-ecb5a5919264",
   "metadata": {},
   "outputs": [
    {
     "data": {
      "text/plain": [
       "['CODANOMAL',\n",
       " 'QTDPARTNOR',\n",
       " 'SEMAGESTAC',\n",
       " 'TPMETESTIM',\n",
       " 'CONSPRENAT',\n",
       " 'TPDOCRESP',\n",
       " 'ESCMAEAGR1']"
      ]
     },
     "execution_count": 16,
     "metadata": {},
     "output_type": "execute_result"
    }
   ],
   "source": [
    "#Which columns may still have missing values nan values\n",
    "df.columns[df.isna().any()].tolist()"
   ]
  },
  {
   "cell_type": "code",
   "execution_count": 17,
   "id": "01681d93-aef3-437c-bc0c-178d65d68c61",
   "metadata": {},
   "outputs": [],
   "source": [
    "# fixing remaining features\n",
    "df['hasCODANOMAL'] = np.where(df['CODANOMAL'].notnull(),1,0)# will have to drop\n",
    "\n",
    "df['QTDPARTNOR'].fillna(df['QTDPARTNOR'].mode()[0],inplace=True)\n",
    "df['QTDPARTNOR'] = df['QTDPARTNOR'].astype(int)\n",
    "\n",
    "df['SEMAGESTAC'].fillna(df['SEMAGESTAC'].mode()[0],inplace=True)\n",
    "df['SEMAGESTAC'] = df['SEMAGESTAC'].astype(int)\n",
    "\n",
    "df['TPMETESTIM'].fillna(9,inplace=True)\n",
    "df['TPMETESTIM'] = df['TPMETESTIM'].astype(int)\n",
    "\n",
    "df['CONSPRENAT'].fillna(df['CONSPRENAT'].mode()[0],inplace=True)\n",
    "df['CONSPRENAT'] = df['CONSPRENAT'].astype(int)\n",
    "                        \n",
    "df['TPDOCRESP'].fillna(df['TPDOCRESP'].mode()[0],inplace=True)\n",
    "df['TPDOCRESP'] = df['TPDOCRESP'].astype(int)\n",
    "\n",
    "df['ESCMAEAGR1'].fillna(9,inplace=True)\n",
    "df['ESCMAEAGR1'] = df['ESCMAEAGR1'].astype(int)\n"
   ]
  },
  {
   "cell_type": "code",
   "execution_count": 18,
   "id": "05938a0f-faff-491f-95ec-5611c82394b9",
   "metadata": {},
   "outputs": [],
   "source": [
    "df.drop('CODANOMAL',axis=1,inplace=True) # dropping codanomal"
   ]
  },
  {
   "cell_type": "code",
   "execution_count": 19,
   "id": "f4e05efe-e36a-4d6a-becd-71545bcb7a5b",
   "metadata": {},
   "outputs": [
    {
     "name": "stdout",
     "output_type": "stream",
     "text": [
      "<class 'pandas.core.frame.DataFrame'>\n",
      "Int64Index: 4214472 entries, 0 to 4214599\n",
      "Data columns (total 61 columns):\n",
      " #   Column         Dtype\n",
      "---  ------         -----\n",
      " 0   CODMUNNASC     int32\n",
      " 1   LOCNASC        int32\n",
      " 2   IDADEMAE       int32\n",
      " 3   ESTCIVMAE      int32\n",
      " 4   ESCMAE         int32\n",
      " 5   CODOCUPMAE     int32\n",
      " 6   QTDFILVIVO     int32\n",
      " 7   QTDFILMORT     int32\n",
      " 8   CODMUNRES      int32\n",
      " 9   GESTACAO       int32\n",
      " 10  GRAVIDEZ       int32\n",
      " 11  PARTO          int32\n",
      " 12  CONSULTAS      int32\n",
      " 13  SEXO           int32\n",
      " 14  APGAR1         int32\n",
      " 15  APGAR5         int32\n",
      " 16  RACACOR        int32\n",
      " 17  PESO           int32\n",
      " 18  IDANOMAL       int32\n",
      " 19  DIFDATA        int32\n",
      " 20  NATURALMAE     int32\n",
      " 21  CODMUNNATU     int32\n",
      " 22  CODUFNATU      int32\n",
      " 23  ESCMAE2010     int32\n",
      " 24  SERIESCMAE     int32\n",
      " 25  RACACORMAE     int32\n",
      " 26  QTDGESTANT     int32\n",
      " 27  QTDPARTNOR     int32\n",
      " 28  QTDPARTCES     int32\n",
      " 29  IDADEPAI       int32\n",
      " 30  SEMAGESTAC     int32\n",
      " 31  TPMETESTIM     int32\n",
      " 32  CONSPRENAT     int32\n",
      " 33  MESPRENAT      int32\n",
      " 34  TPAPRESENT     int32\n",
      " 35  STTRABPART     int32\n",
      " 36  STCESPARTO     int32\n",
      " 37  TPNASCASSI     int32\n",
      " 38  TPFUNCRESP     int32\n",
      " 39  TPDOCRESP      int32\n",
      " 40  ESCMAEAGR1     int32\n",
      " 41  STDNEPIDEM     int32\n",
      " 42  STDNNOVA       int32\n",
      " 43  TPROBSON       int32\n",
      " 44  PARIDADE       int32\n",
      " 45  KOTELCHUCK     int32\n",
      " 46  ANO            int64\n",
      " 47  BPN            int64\n",
      " 48  hasDTRECORIGA  int32\n",
      " 49  hasCODANOMAL   int32\n",
      " 50  hasCODESTAB    int32\n",
      " 51  hasNUMEROLOTE  int32\n",
      " 52  hasDTULTMENST  int32\n",
      " 53  hasIDADEPAI    int64\n",
      " 54  hasSERIESCMAE  int64\n",
      " 55  hasCODOCUPMAE  int32\n",
      " 56  hasHORANASC    int32\n",
      " 57  hasDTCADASTRO  int32\n",
      " 58  hasDTRECEBIM   int32\n",
      " 59  hasDTNASCMAE   int32\n",
      " 60  hasDTDECLARAC  int32\n",
      "dtypes: int32(57), int64(4)\n",
      "memory usage: 1.1 GB\n"
     ]
    }
   ],
   "source": [
    "# checking if there is still features that are not in the int form \n",
    "df.info()"
   ]
  },
  {
   "cell_type": "markdown",
   "id": "d519dde9-1056-4ce0-947e-de9d66439401",
   "metadata": {},
   "source": [
    "For Feature Engineering, i will opt to use the technique of converting some of the quantitative values into categoricals by using pandas.cut, which separate continous values into bins of different ranges, but in order to do that, first we have to care about one thing.\n",
    "\n",
    "As seen in documentation, for some of the features like the Mother's Age ( IDADEMAE ) or Quantity of Living children (QTDFILVIVO) , it is applied the number of '99' to the ignored cases, which will make the pandas.cut less accurate, so it is my choice to replace this kind of situation to the mode number of the respective feature."
   ]
  },
  {
   "cell_type": "code",
   "execution_count": 20,
   "id": "260d1be0-9835-4c39-ac94-95acfded8730",
   "metadata": {},
   "outputs": [
    {
     "data": {
      "text/html": [
       "<div>\n",
       "<style scoped>\n",
       "    .dataframe tbody tr th:only-of-type {\n",
       "        vertical-align: middle;\n",
       "    }\n",
       "\n",
       "    .dataframe tbody tr th {\n",
       "        vertical-align: top;\n",
       "    }\n",
       "\n",
       "    .dataframe thead th {\n",
       "        text-align: right;\n",
       "    }\n",
       "</style>\n",
       "<table border=\"1\" class=\"dataframe\">\n",
       "  <thead>\n",
       "    <tr style=\"text-align: right;\">\n",
       "      <th></th>\n",
       "      <th>0</th>\n",
       "    </tr>\n",
       "  </thead>\n",
       "  <tbody>\n",
       "    <tr>\n",
       "      <th>CODMUNNASC</th>\n",
       "      <td>530010</td>\n",
       "    </tr>\n",
       "    <tr>\n",
       "      <th>LOCNASC</th>\n",
       "      <td>9</td>\n",
       "    </tr>\n",
       "    <tr>\n",
       "      <th>IDADEMAE</th>\n",
       "      <td>99</td>\n",
       "    </tr>\n",
       "    <tr>\n",
       "      <th>ESTCIVMAE</th>\n",
       "      <td>9</td>\n",
       "    </tr>\n",
       "    <tr>\n",
       "      <th>ESCMAE</th>\n",
       "      <td>9</td>\n",
       "    </tr>\n",
       "    <tr>\n",
       "      <th>...</th>\n",
       "      <td>...</td>\n",
       "    </tr>\n",
       "    <tr>\n",
       "      <th>hasHORANASC</th>\n",
       "      <td>1</td>\n",
       "    </tr>\n",
       "    <tr>\n",
       "      <th>hasDTCADASTRO</th>\n",
       "      <td>1</td>\n",
       "    </tr>\n",
       "    <tr>\n",
       "      <th>hasDTRECEBIM</th>\n",
       "      <td>1</td>\n",
       "    </tr>\n",
       "    <tr>\n",
       "      <th>hasDTNASCMAE</th>\n",
       "      <td>1</td>\n",
       "    </tr>\n",
       "    <tr>\n",
       "      <th>hasDTDECLARAC</th>\n",
       "      <td>1</td>\n",
       "    </tr>\n",
       "  </tbody>\n",
       "</table>\n",
       "<p>61 rows × 1 columns</p>\n",
       "</div>"
      ],
      "text/plain": [
       "                    0\n",
       "CODMUNNASC     530010\n",
       "LOCNASC             9\n",
       "IDADEMAE           99\n",
       "ESTCIVMAE           9\n",
       "ESCMAE              9\n",
       "...               ...\n",
       "hasHORANASC         1\n",
       "hasDTCADASTRO       1\n",
       "hasDTRECEBIM        1\n",
       "hasDTNASCMAE        1\n",
       "hasDTDECLARAC       1\n",
       "\n",
       "[61 rows x 1 columns]"
      ]
     },
     "execution_count": 20,
     "metadata": {},
     "output_type": "execute_result"
    }
   ],
   "source": [
    "# we can see here which are the max values of each feature and know which features we will have the mode number replacement.\n",
    "df.max().to_frame()"
   ]
  },
  {
   "cell_type": "markdown",
   "id": "e9e19199-7cb6-4306-a50d-02877367f55d",
   "metadata": {},
   "source": [
    "first of all we have to drop all the data that PESO is 9999, that means that the weight is missing, it was not spotted before, but it will be done now"
   ]
  },
  {
   "cell_type": "code",
   "execution_count": 21,
   "id": "0df25ae4-8f70-4b83-a5fd-44980b102b20",
   "metadata": {},
   "outputs": [
    {
     "name": "stderr",
     "output_type": "stream",
     "text": [
      "C:\\Users\\Nathan\\Anaconda3\\lib\\site-packages\\seaborn\\distributions.py:2619: FutureWarning: `distplot` is a deprecated function and will be removed in a future version. Please adapt your code to use either `displot` (a figure-level function with similar flexibility) or `histplot` (an axes-level function for histograms).\n",
      "  warnings.warn(msg, FutureWarning)\n"
     ]
    },
    {
     "name": "stdout",
     "output_type": "stream",
     "text": [
      " Peso (Weight) < 2500 gramas :  386127\n",
      " Peso (Weight) > 2500 gramas :  3828299\n",
      " Abaixo do Peso (Below Loweight) % :  9.162030606303208\n",
      " Peso Normal ( Normal weight ) % :  90.8379693936968\n"
     ]
    },
    {
     "data": {
      "image/png": "[encoded data removed]",
      "text/plain": [
       "<Figure size 432x288 with 1 Axes>"
      ]
     },
     "metadata": {
      "needs_background": "light"
     },
     "output_type": "display_data"
    }
   ],
   "source": [
    "df = df[df['PESO']!=9999]\n",
    "\n",
    "# Lets see the difference in the target distribution after removing those.\n",
    "sns.distplot(df['PESO'])\n",
    "print(' Peso (Weight) < 2500 gramas : ', len(df[df['BPN'] == 1]))\n",
    "print(' Peso (Weight) > 2500 gramas : ', len(df[df['BPN'] == 0]))\n",
    "print(' Abaixo do Peso (Below Loweight) % : ', (len(df[df['BPN'] == 1])/len(df)) * 100)\n",
    "print(' Peso Normal ( Normal weight ) % : ', (len(df[df['BPN'] == 0])/len(df)) * 100)"
   ]
  },
  {
   "cell_type": "markdown",
   "id": "9ef352ad-b442-45b3-a8e1-4e86be00aad9",
   "metadata": {},
   "source": [
    "Some of the features which contain '99' '999' '9999' (which is the number choose in the when this feature was ignored on survey) is okay to let it out how it is because its cateogrical variables, but for continous variables this have to be fixed."
   ]
  },
  {
   "cell_type": "code",
   "execution_count": 22,
   "id": "6a87daf7-a06a-4f0f-9c73-4d42c12c90e2",
   "metadata": {},
   "outputs": [],
   "source": [
    "# replacing \n",
    "df['IDADEMAE'].replace(99,df['IDADEMAE'].mode()[0],inplace=True)\n",
    "df['QTDFILVIVO'].replace(99,df['QTDFILVIVO'].mode()[0],inplace=True)\n",
    "df['QTDFILMORT'].replace(99,df['QTDFILMORT'].mode()[0],inplace=True)\n",
    "df['ESCMAE2010'].replace(99,9,inplace=True) # Replacing for the 'ignored' alternative\n",
    "df['QTDGESTANT'].replace(99,df['QTDGESTANT'].mode()[0],inplace=True)\n",
    "df['QTDPARTNOR'].replace(99,df['QTDPARTNOR'].mode()[0],inplace=True)\n",
    "df['QTDPARTCES'].replace(99,df['QTDPARTCES'].mode()[0],inplace=True)\n",
    "df['IDADEPAI'].replace(99,df['IDADEPAI'].mode()[0],inplace=True)\n",
    "df['CONSPRENAT'].replace(99,df['CONSPRENAT'].mode()[0],inplace=True)\n",
    "df['MESPRENAT'].replace(99,df['MESPRENAT'].mode()[0],inplace=True)"
   ]
  },
  {
   "cell_type": "code",
   "execution_count": 23,
   "id": "82e2fd76-6999-4ec6-ac90-1c046d7d47d3",
   "metadata": {},
   "outputs": [],
   "source": [
    "#Since all of that has been cleaned up, it is time to do some more feature engineering by finally dividing quantitative features into categorical.\n",
    "\n",
    "df['IDADEMAE_band'] = pd.cut(df['IDADEMAE'],5,labels=[1,2,3,4,5])\n",
    "df['IDADEPAI_band'] = pd.cut(df['IDADEPAI'],5,labels=[1,2,3,4,5])\n",
    "df['QTDFILVIVO_band'] = pd.cut(df['QTDFILVIVO'],3,labels=[1,2,3])\n",
    "df['QTDFILMORT_band'] = pd.cut(df['QTDFILMORT'],3,labels=[1,2,3])\n",
    "df['DIFDATA_band'] = pd.cut(df['DIFDATA'],5,labels=[1,2,3,4,5])\n",
    "df['QTDGESTANT_band'] = pd.cut(df['QTDGESTANT'],5,labels=[1,2,3,4,5])\n",
    "df['QTDPARTNOR_band'] = pd.cut(df['QTDPARTNOR'],5,labels=[1,2,3,4,5])\n",
    "df['QTDPARTCES_band'] = pd.cut(df['QTDPARTCES'],5,labels=[1,2,3,4,5])"
   ]
  },
  {
   "cell_type": "markdown",
   "id": "955dccfd-fff3-4b50-8722-01764d03d5f4",
   "metadata": {},
   "source": [
    "Okay The Process of Cleanse is done, now we can prepare the data for the ensenmble and modelling"
   ]
  },
  {
   "cell_type": "code",
   "execution_count": 24,
   "id": "ff05b51e-b327-4b60-bdb1-adf565d54c50",
   "metadata": {},
   "outputs": [
    {
     "data": {
      "text/plain": [
       "(4214426, 69)"
      ]
     },
     "execution_count": 24,
     "metadata": {},
     "output_type": "execute_result"
    }
   ],
   "source": [
    "df.shape"
   ]
  },
  {
   "cell_type": "code",
   "execution_count": 25,
   "id": "ce03a8d0-65ac-420c-b4b9-c3520185275c",
   "metadata": {},
   "outputs": [],
   "source": [
    "df.drop(['IDADEMAE','IDADEPAI','QTDFILVIVO','QTDFILMORT','DIFDATA','QTDGESTANT','QTDPARTNOR','QTDPARTCES'],axis=1,inplace=True)"
   ]
  },
  {
   "cell_type": "code",
   "execution_count": 26,
   "id": "3f7cdd4b-ad7b-41ca-9183-973a86194a0c",
   "metadata": {},
   "outputs": [],
   "source": [
    "df.drop('PESO',axis=1,inplace=True)"
   ]
  },
  {
   "cell_type": "markdown",
   "id": "77f34dfd-82f0-4886-a8f5-72a69e8e51f6",
   "metadata": {},
   "source": [
    "## Machine Learning Models"
   ]
  },
  {
   "cell_type": "code",
   "execution_count": 27,
   "id": "d80d2bfc-34cb-4640-8d60-5c1292ae62f0",
   "metadata": {},
   "outputs": [],
   "source": [
    "# machine learning\n",
    "from sklearn.ensemble import RandomForestClassifier\n",
    "from sklearn.naive_bayes import GaussianNB\n",
    "from sklearn.tree import DecisionTreeClassifier\n",
    "from sklearn.model_selection import train_test_split\n",
    "from sklearn import metrics"
   ]
  },
  {
   "cell_type": "code",
   "execution_count": 28,
   "id": "9e1bfa6e-eca1-478c-9725-f973d69e2eda",
   "metadata": {},
   "outputs": [],
   "source": [
    "# making the values from 2014 to 2018 as my training set and 2019 and 2020 as my test set\n",
    "\n",
    "df_train = df[df['ANO']<2019]\n",
    "df_test = df[df['ANO']>2018]\n",
    "\n",
    "\n",
    "x_train = df_train.drop('BPN',axis=1)\n",
    "x_test = df_test.drop('BPN',axis=1)\n",
    "y_train = df_train['BPN']\n",
    "y_test = df_test['BPN']\n"
   ]
  },
  {
   "cell_type": "code",
   "execution_count": 29,
   "id": "de4cb8a9-b21c-4623-91ce-5afe42161b3b",
   "metadata": {},
   "outputs": [],
   "source": [
    "import warnings\n",
    "from pylab import rcParams\n",
    "# Magic function para utilizar o matplot\n",
    "%matplotlib inline\n",
    "rcParams['figure.figsize'] = 10,6\n",
    "warnings.filterwarnings('ignore')\n",
    "sns.set(style='darkgrid')"
   ]
  },
  {
   "cell_type": "code",
   "execution_count": 31,
   "id": "9a9e2150-369a-43d3-8c0b-3140a187d8f9",
   "metadata": {},
   "outputs": [],
   "source": [
    "from sklearn.metrics import accuracy_score\n",
    "from sklearn.metrics import precision_score,recall_score\n",
    "from sklearn.metrics import f1_score,roc_auc_score,roc_curve"
   ]
  },
  {
   "cell_type": "code",
   "execution_count": 32,
   "id": "38c14601-1628-4809-b668-61e6315a12e0",
   "metadata": {},
   "outputs": [],
   "source": [
    "# Gaussian Naive Bayes\n",
    "clf_gaussian = GaussianNB()\n",
    "clf_gaussian.fit(x_train, y_train) \n",
    "y_pred_gaussian = clf_gaussian.predict(x_test)\n",
    "y_score_gaussian = clf_gaussian.predict_proba(x_test)[:,1]\n",
    "\n",
    "\n",
    "acc_gaussian = accuracy_score(y_test,y_pred_gaussian)\n",
    "mse_gaussian= metrics.mean_squared_error(y_test,y_pred_gaussian)\n",
    "\n",
    "fpr_gaussian,tpr_gaussian,threshold_gaussian = roc_curve(y_test,y_score_gaussian)\n",
    "gaussian_auc = roc_auc_score(y_test, clf_gaussian.predict_proba(x_test)[:, 1])"
   ]
  },
  {
   "cell_type": "code",
   "execution_count": 33,
   "id": "ba9595af-d2c6-45d9-83a8-37dda872be83",
   "metadata": {},
   "outputs": [
    {
     "name": "stdout",
     "output_type": "stream",
     "text": [
      "CPU times: total: 0 ns\n",
      "Wall time: 0 ns\n"
     ]
    }
   ],
   "source": [
    "%time\n",
    "# Decision Tree\n",
    "\n",
    "clf_decision_tree = DecisionTreeClassifier()\n",
    "clf_decision_tree.fit(x_train,y_train)\n",
    "\n",
    "y_pred_decision_tree = clf_decision_tree.predict(x_test)\n",
    "\n",
    "acc_decision_tree = accuracy_score(y_test,y_pred_decision_tree)\n",
    "mse_decision_tree= metrics.mean_squared_error(y_test,y_pred_decision_tree)\n",
    "\n",
    "y_score_decision_tree = clf_decision_tree.predict_proba(x_test)[:,1]\n",
    "\n",
    "fpr_decision_tree,tpr_decision_tree,threshold_decision_tree = roc_curve(y_test,y_score_decision_tree)\n",
    "\n",
    "decision_tree_auc = roc_auc_score(y_test, clf_decision_tree.predict_proba(x_test)[:, 1])\n"
   ]
  },
  {
   "cell_type": "code",
   "execution_count": 34,
   "id": "4a9d99e5-8115-4f4b-94dc-6d12f06a74a0",
   "metadata": {},
   "outputs": [
    {
     "name": "stdout",
     "output_type": "stream",
     "text": [
      "AUC: {0.8825209803278581}\n",
      "CPU times: total: 39min 27s\n",
      "Wall time: 39min 36s\n"
     ]
    }
   ],
   "source": [
    "%%time\n",
    "\n",
    "# Random Forest\n",
    "\n",
    "clf_random_forest = RandomForestClassifier(n_estimators=100)\n",
    "clf_random_forest.fit(x_train, y_train)\n",
    "\n",
    "y_pred_random_forest = clf_random_forest.predict(x_test)\n",
    "\n",
    "acc_random_forest = accuracy_score(y_test, y_pred_random_forest)\n",
    "mse_random_forest= metrics.mean_squared_error(y_test,y_pred_random_forest)\n",
    "\n",
    "y_score_random_forest = clf_random_forest.predict_proba(x_test)[:,1]\n",
    "fpr_random_forest,tpr_random_forest,threshold_random_forest = roc_curve(y_test,y_score_random_forest)\n",
    "\n",
    "random_forest_auc = roc_auc_score(y_test, clf_random_forest.predict_proba(x_test)[:, 1])"
   ]
  },
  {
   "cell_type": "code",
   "execution_count": 35,
   "id": "a16f3708-0209-4137-a86a-73ce17e226d8",
   "metadata": {},
   "outputs": [
    {
     "name": "stdout",
     "output_type": "stream",
     "text": [
      "CPU times: total: 0 ns\n",
      "Wall time: 2.67 ms\n"
     ]
    },
    {
     "data": {
      "text/html": [
       "<div>\n",
       "<style scoped>\n",
       "    .dataframe tbody tr th:only-of-type {\n",
       "        vertical-align: middle;\n",
       "    }\n",
       "\n",
       "    .dataframe tbody tr th {\n",
       "        vertical-align: top;\n",
       "    }\n",
       "\n",
       "    .dataframe thead th {\n",
       "        text-align: right;\n",
       "    }\n",
       "</style>\n",
       "<table border=\"1\" class=\"dataframe\">\n",
       "  <thead>\n",
       "    <tr style=\"text-align: right;\">\n",
       "      <th></th>\n",
       "      <th>Model</th>\n",
       "      <th>ROC_AUC</th>\n",
       "      <th>Accuracy</th>\n",
       "      <th>MSE</th>\n",
       "    </tr>\n",
       "  </thead>\n",
       "  <tbody>\n",
       "    <tr>\n",
       "      <th>2</th>\n",
       "      <td>Random Forest</td>\n",
       "      <td>0.882521</td>\n",
       "      <td>0.939511</td>\n",
       "      <td>0.060489</td>\n",
       "    </tr>\n",
       "    <tr>\n",
       "      <th>0</th>\n",
       "      <td>Gaussian Naive Bayes</td>\n",
       "      <td>0.793669</td>\n",
       "      <td>0.904936</td>\n",
       "      <td>0.095064</td>\n",
       "    </tr>\n",
       "    <tr>\n",
       "      <th>1</th>\n",
       "      <td>Decision Tree</td>\n",
       "      <td>0.712345</td>\n",
       "      <td>0.891438</td>\n",
       "      <td>0.108562</td>\n",
       "    </tr>\n",
       "  </tbody>\n",
       "</table>\n",
       "</div>"
      ],
      "text/plain": [
       "                  Model   ROC_AUC  Accuracy       MSE\n",
       "2         Random Forest  0.882521  0.939511  0.060489\n",
       "0  Gaussian Naive Bayes  0.793669  0.904936  0.095064\n",
       "1         Decision Tree  0.712345  0.891438  0.108562"
      ]
     },
     "execution_count": 35,
     "metadata": {},
     "output_type": "execute_result"
    }
   ],
   "source": [
    "%%time\n",
    "\n",
    "models = pd.DataFrame({\n",
    "    'Model': [ 'Gaussian Naive Bayes',\n",
    "              'Decision Tree','Random Forest'],\n",
    "    'ROC_AUC': [gaussian_auc,decision_tree_auc,\n",
    "                random_forest_auc],\n",
    "    'Accuracy': [acc_gaussian,acc_decision_tree,\n",
    "                 acc_random_forest],\n",
    "    'MSE':   [mse_gaussian,\n",
    "              mse_decision_tree,mse_random_forest]})\n",
    "\n",
    "models.sort_values(by='ROC_AUC', ascending=False)"
   ]
  },
  {
   "cell_type": "code",
   "execution_count": 36,
   "id": "66e7c3ba-ba9e-4b3e-9ca3-9e71dd745d0f",
   "metadata": {
    "tags": []
   },
   "outputs": [
    {
     "data": {
      "image/png": "[encoded data removed]",
      "text/plain": [
       "<Figure size 1080x360 with 1 Axes>"
      ]
     },
     "metadata": {},
     "output_type": "display_data"
    }
   ],
   "source": [
    "import matplotlib.pyplot as plt\n",
    "\n",
    "plt.subplots(1,figsize=(15,5))\n",
    "plt.title('Receiver Operating Characteristic')\n",
    "\n",
    "plt.plot([0, 1], ls=\"--\",c='r')\n",
    "plt.plot(fpr_random_forest,tpr_random_forest,label='Random Forest')\n",
    "plt.plot(fpr_decision_tree,tpr_decision_tree,label='Decision Tree')\n",
    "plt.plot(fpr_gaussian,tpr_gaussian,label='Gaussian Naive Bayes')\n",
    "plt.plot([0, 0], [1, 0] , c=\".7\"), plt.plot([1, 1] , c=\".7\")\n",
    "plt.legend()\n",
    "plt.show()"
   ]
  },
  {
   "cell_type": "markdown",
   "id": "78fc000e-e46c-4125-8615-8cf27fded599",
   "metadata": {},
   "source": [
    "To ensure the data is not overfitting i will realizing a cross validation method to check if the results are not diverging\n",
    "\n",
    "#### Cross validation "
   ]
  },
  {
   "cell_type": "code",
   "execution_count": 37,
   "id": "6151df65-3615-4fa0-ae41-7f74da457146",
   "metadata": {},
   "outputs": [],
   "source": [
    "from sklearn.model_selection import cross_val_score\n",
    "from sklearn.model_selection import cross_validate\n",
    "\n",
    "x = df.drop('BPN',axis=1)\n",
    "y = df['BPN']\n",
    "\n",
    "clf_dtree = DecisionTreeClassifier()\n",
    "\n",
    "decision_tree_scores = cross_validate(clf_dtree,x,y,cv=3,\n",
    "                                      scoring=('accuracy','roc_auc','neg_mean_squared_error'),\n",
    "                                      return_train_score=True)"
   ]
  },
  {
   "cell_type": "code",
   "execution_count": 38,
   "id": "9e38c89d-ec89-4ac7-ab5a-f10ab684a102",
   "metadata": {},
   "outputs": [
    {
     "name": "stdout",
     "output_type": "stream",
     "text": [
      "CPU times: total: 1h 47min 33s\n",
      "Wall time: 11h 34s\n"
     ]
    }
   ],
   "source": [
    "%%time\n",
    "clf_rforest = RandomForestClassifier()\n",
    "\n",
    "random_forest_scores = cross_validate(clf_rforest,x,y,cv=3,\n",
    "                                      scoring=('accuracy','roc_auc','neg_mean_squared_error'),\n",
    "                                      return_train_score=True)"
   ]
  },
  {
   "cell_type": "code",
   "execution_count": 39,
   "id": "6f42cda5-c242-4acc-9633-ba7595c85714",
   "metadata": {},
   "outputs": [
    {
     "name": "stdout",
     "output_type": "stream",
     "text": [
      "CPU times: total: 52.8 s\n",
      "Wall time: 53 s\n"
     ]
    }
   ],
   "source": [
    "%%time\n",
    "clf_gaussianNB = GaussianNB()\n",
    "\n",
    "gaussian_scores = cross_validate(clf_gaussianNB,x,y,cv=3,\n",
    "                                      scoring=('accuracy','roc_auc','neg_mean_squared_error'),\n",
    "                                      return_train_score=True)"
   ]
  },
  {
   "cell_type": "code",
   "execution_count": 40,
   "id": "277e37e5-74cc-4adb-ba61-2bb92e625bc8",
   "metadata": {},
   "outputs": [],
   "source": [
    "gaussianNB_auc = gaussian_scores['test_roc_auc'].mean()\n",
    "gaussianNB_acc = gaussian_scores['test_accuracy'].mean()\n",
    "gaussianNB_mse = gaussian_scores['test_neg_mean_squared_error'].mean()\n",
    "\n",
    "\n",
    "dtree_auc = decision_tree_scores['test_roc_auc'].mean()\n",
    "dtree_acc = decision_tree_scores['test_accuracy'].mean()\n",
    "dtree_mse = decision_tree_scores['test_neg_mean_squared_error'].mean()\n",
    "\n",
    "\n",
    "rforest_auc = random_forest_scores['test_roc_auc'].mean()\n",
    "rforest_acc = random_forest_scores['test_accuracy'].mean()\n",
    "rforest_mse = random_forest_scores['test_neg_mean_squared_error'].mean()\n",
    "\n"
   ]
  },
  {
   "cell_type": "code",
   "execution_count": 41,
   "id": "dd16bd34-1646-41ef-9db8-9dead05f253f",
   "metadata": {},
   "outputs": [
    {
     "name": "stdout",
     "output_type": "stream",
     "text": [
      "CPU times: total: 31.2 ms\n",
      "Wall time: 29.1 ms\n"
     ]
    },
    {
     "data": {
      "text/html": [
       "<div>\n",
       "<style scoped>\n",
       "    .dataframe tbody tr th:only-of-type {\n",
       "        vertical-align: middle;\n",
       "    }\n",
       "\n",
       "    .dataframe tbody tr th {\n",
       "        vertical-align: top;\n",
       "    }\n",
       "\n",
       "    .dataframe thead th {\n",
       "        text-align: right;\n",
       "    }\n",
       "</style>\n",
       "<table border=\"1\" class=\"dataframe\">\n",
       "  <thead>\n",
       "    <tr style=\"text-align: right;\">\n",
       "      <th></th>\n",
       "      <th>Model</th>\n",
       "      <th>ROC_AUC</th>\n",
       "      <th>Accuracy</th>\n",
       "      <th>MSE</th>\n",
       "    </tr>\n",
       "  </thead>\n",
       "  <tbody>\n",
       "    <tr>\n",
       "      <th>2</th>\n",
       "      <td>Random Forest</td>\n",
       "      <td>0.876060</td>\n",
       "      <td>0.939084</td>\n",
       "      <td>-0.060916</td>\n",
       "    </tr>\n",
       "    <tr>\n",
       "      <th>0</th>\n",
       "      <td>Gaussian Naive Bayes</td>\n",
       "      <td>0.785203</td>\n",
       "      <td>0.905195</td>\n",
       "      <td>-0.094805</td>\n",
       "    </tr>\n",
       "    <tr>\n",
       "      <th>1</th>\n",
       "      <td>Decision Tree</td>\n",
       "      <td>0.706179</td>\n",
       "      <td>0.886326</td>\n",
       "      <td>-0.113674</td>\n",
       "    </tr>\n",
       "  </tbody>\n",
       "</table>\n",
       "</div>"
      ],
      "text/plain": [
       "                  Model   ROC_AUC  Accuracy       MSE\n",
       "2         Random Forest  0.876060  0.939084 -0.060916\n",
       "0  Gaussian Naive Bayes  0.785203  0.905195 -0.094805\n",
       "1         Decision Tree  0.706179  0.886326 -0.113674"
      ]
     },
     "execution_count": 41,
     "metadata": {},
     "output_type": "execute_result"
    }
   ],
   "source": [
    "%%time\n",
    "\n",
    "models = pd.DataFrame({\n",
    "    'Model': [ 'Gaussian Naive Bayes',\n",
    "              'Decision Tree','Random Forest'],\n",
    "    'ROC_AUC': [gaussianNB_auc,dtree_auc,\n",
    "                rforest_auc],\n",
    "    'Accuracy': [gaussianNB_acc,dtree_acc,\n",
    "                 rforest_acc],\n",
    "    'MSE':   [gaussianNB_mse,\n",
    "              dtree_mse,rforest_mse]})\n",
    "\n",
    "models.sort_values(by='ROC_AUC', ascending=False)"
   ]
  },
  {
   "cell_type": "markdown",
   "id": "724f8f3e-344f-46ca-b0f2-c2cef2d00993",
   "metadata": {},
   "source": []
  },
  {
   "cell_type": "code",
   "execution_count": null,
   "id": "f3d55337-a62f-449a-a030-57484d5dd5e7",
   "metadata": {},
   "outputs": [],
   "source": []
  }
 ],
 "metadata": {
  "kernelspec": {
   "display_name": "Python 3 (ipykernel)",
   "language": "python",
   "name": "python3"
  },
  "language_info": {
   "codemirror_mode": {
    "name": "ipython",
    "version": 3
   },
   "file_extension": ".py",
   "mimetype": "text/x-python",
   "name": "python",
   "nbconvert_exporter": "python",
   "pygments_lexer": "ipython3",
   "version": "3.9.12"
  }
 },
 "nbformat": 4,
 "nbformat_minor": 5
}
